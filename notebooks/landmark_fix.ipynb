{
 "cells": [
  {
   "cell_type": "code",
   "execution_count": null,
   "metadata": {},
   "outputs": [],
   "source": [
    "import SimpleITK as sitk\n",
    "import matplotlib.pyplot as plt\n",
    "from scipy.signal import argrelextrema\n",
    "import numpy as np\n",
    "from src.helpers import Math, Image\n",
    "from src import core\n",
    "import cv2"
   ]
  },
  {
   "cell_type": "code",
   "execution_count": null,
   "metadata": {},
   "outputs": [],
   "source": [
    "file = '../shared/predicted_smoothed.nrrd'"
   ]
  },
  {
   "cell_type": "code",
   "execution_count": null,
   "metadata": {},
   "outputs": [],
   "source": [
    "detector = core.DetectLandmarks(file, overwrite=True)\n",
    "arr= detector.arr\n",
    "indices = detector.get_indices()\n",
    "triangles_info = detector.get_triangles()\n",
    "top_idx = indices['top_idx']\n",
    "centroid_top = triangles_info['centroid_top']\n",
    "midpoints_bottom = triangles_info['midpoints_bottom']\n",
    "midpoints_top = triangles_info['midpoints_top']\n",
    "img = np.copy(detector.arr[top_idx])\n",
    "nx, ny = img.shape\n",
    "lines_pixel_values_top = []\n",
    "x_c, y_c = centroid_top\n",
    "landmark_r_list = []\n",
    "landmark_angle_list_top = []"
   ]
  },
  {
   "cell_type": "code",
   "execution_count": null,
   "metadata": {},
   "outputs": [],
   "source": [
    "for midpoint in midpoints_top:\n",
    "    line_pixel_values = []\n",
    "    m = np.array(midpoint)\n",
    "    c = np.array(centroid_top)\n",
    "    x_axis = np.array([1, 0])\n",
    "    cm = m - c\n",
    "    angle = np.arctan2(cm[1], cm[0]) - np.arctan2(x_axis[1], x_axis[0])\n",
    "    landmark_angle_list_top.append(angle)\n",
    "    r = 0\n",
    "    dr = 1\n",
    "    x, y = centroid_top\n",
    "    while (0 <= x < nx) and (0 <= y < ny):\n",
    "        x = int(r * np.cos(angle) + x_c)\n",
    "        y = int(r * np.sin(angle) + y_c)\n",
    "        try:\n",
    "            line_pixel_values.append(img[y, x])\n",
    "            cv2.circle(img, (x, y), 10, color=2, thickness=-1)\n",
    "            r += dr\n",
    "        except:\n",
    "            break\n",
    "    lines_pixel_values_top.append(Math.pop_zeros(line_pixel_values))\n",
    "    landmark_r_list.append(dr * len(line_pixel_values))\n",
    "plt.imshow(img)"
   ]
  },
  {
   "cell_type": "code",
   "execution_count": null,
   "metadata": {},
   "outputs": [],
   "source": [
    "top_landmark_coords_list = []\n",
    "for i in range(3):\n",
    "    r = landmark_r_list[i]\n",
    "    angle = landmark_angle_list_top[i]\n",
    "    x = int(r * np.cos(angle) + x_c)\n",
    "    y = int(r * np.sin(angle) + y_c)\n",
    "    top_landmark_coords_list.append((x, y))"
   ]
  },
  {
   "cell_type": "code",
   "execution_count": null,
   "metadata": {},
   "outputs": [],
   "source": [
    "plt.imshow(img)\n"
   ]
  },
  {
   "cell_type": "code",
   "execution_count": null,
   "metadata": {},
   "outputs": [],
   "source": []
  },
  {
   "cell_type": "code",
   "execution_count": null,
   "metadata": {},
   "outputs": [],
   "source": []
  }
 ],
 "metadata": {
  "interpreter": {
   "hash": "038bae64809f23f08f8fb7624384de22121249e2cf9fdbf7531f9c38d680ff2e"
  },
  "kernelspec": {
   "display_name": "Python 3.8.13 ('landmark')",
   "language": "python",
   "name": "python3"
  },
  "language_info": {
   "codemirror_mode": {
    "name": "ipython",
    "version": 3
   },
   "file_extension": ".py",
   "mimetype": "text/x-python",
   "name": "python",
   "nbconvert_exporter": "python",
   "pygments_lexer": "ipython3",
   "version": "3.7.11"
  },
  "orig_nbformat": 4
 },
 "nbformat": 4,
 "nbformat_minor": 2
}
